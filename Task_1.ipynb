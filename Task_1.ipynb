{
 "cells": [
  {
   "cell_type": "markdown",
   "metadata": {},
   "source": [
    "# Задание 1.1\n",
    "\n",
    "[Свертка списка](https://ru.wikipedia.org/wiki/%D0%A1%D0%B2%D1%91%D1%80%D1%82%D0%BA%D0%B0_%D1%81%D0%BF%D0%B8%D1%81%D0%BA%D0%B0) -  это обобщенная операция над списком, c помощью которой можно преобразовать список в единое значение. Например, рассмотрим реализации свертки слева и свертки справа (левоассоциативную свертку и правоассоциативную свертку):"
   ]
  },
  {
   "cell_type": "code",
   "execution_count": 342,
   "metadata": {
    "jupyter": {
     "outputs_hidden": true
    }
   },
   "outputs": [],
   "source": [
    "def foldl(f, x0, lst):\n",
    "    if not lst:\n",
    "        return x0\n",
    "    return foldl(f, f(x0, lst[0]), lst[1:])\n",
    "\n",
    "def foldr(f, x0, lst):\n",
    "    if not lst:\n",
    "        return x0\n",
    "    return f(lst[0], foldr(f, x0, lst[1:]))"
   ]
  },
  {
   "cell_type": "code",
   "execution_count": 5,
   "metadata": {},
   "outputs": [
    {
     "data": {
      "text/plain": [
       "(0.16666666666666666, 1.5)"
      ]
     },
     "execution_count": 5,
     "metadata": {},
     "output_type": "execute_result"
    }
   ],
   "source": [
    "f = lambda x, y: x / y\n",
    "foldl(f, 1, [1, 2, 3]), \\\n",
    "foldr(f, 1, [1, 2, 3])"
   ]
  },
  {
   "cell_type": "markdown",
   "metadata": {},
   "source": [
    "Задача: реализовать foldl через foldr и наоборот. Вместо многоточий нужно вставить выражения, которые бы привели к нужному результату. Модифицировать сам список нельзя. "
   ]
  },
  {
   "cell_type": "code",
   "execution_count": 353,
   "metadata": {
    "jupyter": {
     "outputs_hidden": true
    }
   },
   "outputs": [],
   "source": [
    "def foldl2(f, x0, lst):\n",
    "    return foldr(..., ..., lst)(...)"
   ]
  },
  {
   "cell_type": "code",
   "execution_count": 1,
   "metadata": {
    "jupyter": {
     "outputs_hidden": true
    }
   },
   "outputs": [],
   "source": [
    "def foldr2(f, x0, lst):\n",
    "    return foldl(..., ..., lst)(...)\n"
   ]
  },
  {
   "cell_type": "code",
   "execution_count": 456,
   "metadata": {},
   "outputs": [
    {
     "data": {
      "text/plain": [
       "[1, 2]"
      ]
     },
     "execution_count": 456,
     "metadata": {},
     "output_type": "execute_result"
    }
   ],
   "source": [
    "[1, 2, 3][:-1]"
   ]
  },
  {
   "cell_type": "markdown",
   "metadata": {},
   "source": [
    "# Задание 1.2\n",
    "\n",
    "нужно написать функцию, которая принимает две строки и проверяет, входит ли хотя бы одна перестановка второй строки в первую. Например:\n",
    "\n",
    "> a = 'abcrotm'\n",
    "> \n",
    "> b = 'tro'\n",
    "\n",
    "функция def check_inv(a, b) вернет True, так как 'rot' содержится в 'abcrotm'. Нужно подумать как можно более оптимальный алгоритм и оценить его сложность. "
   ]
  },
  {
   "cell_type": "code",
   "execution_count": 6,
   "metadata": {
    "jupyter": {
     "outputs_hidden": true
    }
   },
   "outputs": [
    {
     "data": {
      "text/plain": [
       "True"
      ]
     },
     "execution_count": 6,
     "metadata": {},
     "output_type": "execute_result"
    }
   ],
   "source": [
    "# Наивное решение\n",
    "def check_inv(a: str, b: str) -> bool:\n",
    "    for begin in range(len(a)-len(b)+1):\n",
    "        if sorted(a[begin:begin+len(b)]) == sorted(b):\n",
    "            return True\n",
    "    return False\n",
    "check_inv('abcrotm', 'tro')"
   ]
  },
  {
   "cell_type": "code",
   "execution_count": 449,
   "metadata": {},
   "outputs": [
    {
     "data": {
      "text/plain": [
       "True"
      ]
     },
     "execution_count": 449,
     "metadata": {},
     "output_type": "execute_result"
    }
   ],
   "source": [
    "# Оптимальное решение\n",
    "\n",
    "def make_counter(a: str) -> dict:\n",
    "    counter = {}\n",
    "    for char in a:\n",
    "        counter[char] = counter.get(char, 0)+1\n",
    "    return counter\n",
    "\n",
    "def get_distance(a: dict, b:dict):\n",
    "    dist = 0\n",
    "    for char in set(list(a.keys())+list(b.keys())):\n",
    "        dist+=abs(a.get(char, 0) - b.get(char, 0))\n",
    "    return dist\n",
    "\n",
    "\n",
    "def check_inv(a: str, b:str) -> bool:\n",
    "    a_len = len(a)\n",
    "    b_len = len(b)\n",
    "    \n",
    "    a_counter = make_counter(a[:b_len])\n",
    "    b_counter = make_counter(b)\n",
    "    distance = get_distance(a_counter, b_counter)\n",
    "    if distance == 0:\n",
    "            return True\n",
    "    \n",
    "    for begin in range(1, a_len-b_len+1):\n",
    "        left_char = a[begin-1]\n",
    "        right_char = a[begin+b_len-1]\n",
    "        \n",
    "        old_left = abs(a_counter.get(left_char, 0) - b_counter.get(left_char, 0))\n",
    "        old_right = abs(a_counter.get(right_char, 0) - b_counter.get(right_char, 0))\n",
    "        \n",
    "        a_counter[left_char] = a_counter.get(left_char, 0)-1\n",
    "        a_counter[right_char] = a_counter.get(right_char, 0)+1\n",
    "        \n",
    "        curr_left = abs(a_counter.get(left_char, 0) - b_counter.get(left_char, 0))\n",
    "        curr_right = abs(a_counter.get(right_char, 0) - b_counter.get(right_char, 0))\n",
    "        \n",
    "        distance = distance + (curr_left-old_left) + (curr_right-old_right)\n",
    "        if distance == 0:\n",
    "            return True\n",
    "    return False\n",
    "\n",
    "check_inv('abcrotm', 'tor')"
   ]
  },
  {
   "cell_type": "markdown",
   "metadata": {},
   "source": [
    "## Оценка сложности алгоритма\n",
    "\n",
    "### 1) Наивное решение\n",
    "\n",
    "<b>Идея</b>\\\n",
    "Проходимся по строке <code>a</code> окном длины <code>len(b)</code> и проверяем, равны ли отсортированные строки друг другу\n",
    "\n",
    "<b>Асимптотика</b>\n",
    "* Всего шагов окна - $O(len(a))$\n",
    "* На каждом шаге в худшем случае $O(len(b))$ операций\n",
    "* Сложность первого алгоритма - $O(len(a)*len(b))$\n",
    "<br/><br/>\n",
    "\n",
    "\n",
    "### 2) Оптимальное решение\n",
    "\n",
    "<b>Идея</b>\\\n",
    "Вначале создается два словаря, содержащих буквы и их количество в строке b и в срезе строки а длины <code>len(b)</code>\\\n",
    "Высчитывается <em>расстояние</em> между двумя словарями, то есть сумма модулей разности значений по каждому символу\\\n",
    "Затем, начиная со 2 символа, проходимся окном длины <code>len(b)</code> по строке <code>a</code>, однако не высчитываем <em>расстояние</em> с нуля, а делаем это по двум символам: удаленному и добавленому.\\\n",
    "Вследствие чего <em>расстояние</em> может уменьшиться на 2, увеличиться на 2, либо остаться прежним.\n",
    "Если <em>расстояние</em> равно нулю - мы нашли перестановку\n",
    "\n",
    "<b>Асимптотика</b>\n",
    "* Создание словарей и рассчет <em>расстояния</em> - $O(len(b))$, но так как эти операции проводятся единожды, а также $len(b) << len(a)$, в итоговой асимптотике они не учитываются\n",
    "* Всего шагов окна - $O(len(a))$\n",
    "* Изменение <em>расстояния</em> и проверка равенства нулю - $O(1)$\n",
    "* Сложность второго алгоритма - <code>len(a)</code>\n",
    "\n"
   ]
  },
  {
   "cell_type": "markdown",
   "metadata": {},
   "source": [
    "# Задание 1.3\n",
    "\n",
    "Реализовать бинарное дерево (класс Tree), в нём методы __repr__, __str__, __iter__ (итерация только по листьям)."
   ]
  },
  {
   "cell_type": "code",
   "execution_count": 413,
   "metadata": {},
   "outputs": [],
   "source": [
    "class Tree:\n",
    "    def __init__(self, value=None, left=None, right=None):\n",
    "        self.left = left\n",
    "        self.right = right\n",
    "        self.value = value\n",
    "        \n",
    "    def __iter__(self, lst=[]):\n",
    "        if self.left == self.right == None:\n",
    "            lst.append(self.value)\n",
    "        if self.left != None:\n",
    "            iter_tree(self.left, lst)\n",
    "        if self.right != None:\n",
    "            iter_tree(self.right, lst)\n",
    "        return iter(lst)\n",
    "    \n",
    "    def __repr__(self):\n",
    "        if self.right is not None:\n",
    "            text = '<{}({value!r}, {left!r}, {right!r})>'\n",
    "        elif self.left is not None:\n",
    "            text = '<{}({value!r}, {left!r})>'\n",
    "        else:\n",
    "            text = '<{}({value!r})>'\n",
    "        return text.format(type(self).__name__, **vars(self))\n",
    "    \n",
    "    def __str__(self):\n",
    "        return f'В объекте класса Tree листья имеют значения: {list(self.__iter__())}'\n"
   ]
  },
  {
   "cell_type": "code",
   "execution_count": 414,
   "metadata": {},
   "outputs": [
    {
     "data": {
      "text/plain": [
       "[3, 4, 2]"
      ]
     },
     "execution_count": 414,
     "metadata": {},
     "output_type": "execute_result"
    }
   ],
   "source": [
    "tree = Tree(0, Tree(1, Tree(3), Tree(4)),                             \n",
    "               Tree(2))\n",
    "list(tree)"
   ]
  },
  {
   "cell_type": "code",
   "execution_count": 415,
   "metadata": {},
   "outputs": [
    {
     "data": {
      "text/plain": [
       "'В объекте класса Tree листья имеют значения: [3, 4, 2, 3, 4, 2]'"
      ]
     },
     "execution_count": 415,
     "metadata": {},
     "output_type": "execute_result"
    }
   ],
   "source": [
    "tree = Tree(0, Tree(1, Tree(3), Tree(4)),                             \n",
    "               Tree(2))\n",
    "str(tree)"
   ]
  },
  {
   "cell_type": "code",
   "execution_count": 416,
   "metadata": {},
   "outputs": [
    {
     "data": {
      "text/plain": [
       "<Tree(0, <Tree(1, <Tree(3)>, <Tree(4)>)>, <Tree(2)>)>"
      ]
     },
     "execution_count": 416,
     "metadata": {},
     "output_type": "execute_result"
    }
   ],
   "source": [
    "tree = Tree(0, Tree(1, Tree(3), Tree(4)),                             \n",
    "               Tree(2))\n",
    "tree"
   ]
  },
  {
   "cell_type": "markdown",
   "metadata": {},
   "source": [
    "# Задание 1.4\n",
    "\n",
    "Реализовать простейший калькулятор математических выражений:\n",
    "- только целые числа\n",
    "- **+**, **\\-**, **\\***, **\\**\n",
    "- скобки\n",
    "\n",
    "**Можно использовать регулярные выражения**"
   ]
  },
  {
   "cell_type": "markdown",
   "metadata": {},
   "source": [
    "## Идея алгоритма\n",
    "\n",
    "### 1) Разбиение выражения на составные части\n",
    "Алгоритм будет работать со списоком, в котором находятся числа и знаки математических операций\n",
    "\n",
    "Однако воспользоваться обычным re.split() мы не можем, так как калькулятор должен уметь работать с отрицательными числами\n",
    "\n",
    "Для этого, после вызова операции <code>re.split('(\\+|\\-|\\*|\\/|\\(|\\))', expr)</code>, разделяющей строку на блоки с числами и математическими знаками, мы проводим проверку всех знаков '-', перед которыми стоит не число (в противном случае минус является разделяющим, то есть вычитает одно число из другого)\n",
    "\n",
    "Затем все строки с числами приводятся к типу <code>float</code>, а все числа, перед который стоит неразделяющий минус, домножаются на $(-1)$\n",
    "\n",
    "### 2) Обработчик скобок\n",
    "Первым делом выполняются операции, находящиеся в скобках.\n",
    "\n",
    "Так как скобок внутри может быть сколько угодно, нужно при помощи рекурсии вычислить значение внутри скобок, после чего заменить это выражение на число, равное этому выражению. \n",
    "\n",
    "Для этого я написал функцию <code>get_next_bracket_index()</code>, которая принимает выражение, следующее после открытой скобки, и ищет индекс, соответствующий закрывающей скобке для данной открытой. Делается это при помощи счетчика (открывающая скобка добавляет единицу к счетчику, закрывающая отнимает единицу, при равенстве счетчика нулю будет найдена нужная закрывающая скобка)\n",
    "\n",
    "Затем выражение внутри скобок передается в функцию <code>calc</code> и высчитывается ее значение\n",
    "\n",
    "### 3) Операции умножения и деления\n",
    "Блок с обработкой знаков умножения и деления следует уже после того, как в выражении обработаются все скобки. То есть выражение будет иметь следующий вид: числа, разделенные знаками $+, -, *, /$ \n",
    "\n",
    "Трудность кроется в том, что операции умножения и деления должны выполняться слева направо, ведь в противном случае\n",
    "можно столкнуться с ошибкой вида $10*2/5 = 4$ при приоритете выполнения деления и $10/2*5 = 1$ при приоритете выполнения умножения. \n",
    "\n",
    "По этой причине данный блок выполняется до тех пор, пока в выражении не останется знаков умножения и деления.\n",
    "\n",
    "Ищется самый левый индекс, соответствующий одному из данных знаков, после чего производится произведение или деление двух рядом стоящих чисел, а затем выражение $a(*|/)b$ в списке с выражением заменяется на число $c$, равное значению этого выражения\n",
    "\n",
    "### 4) Операции сложения и вычитания\n",
    "Данный блок аналогичен предыдущему, однако сделано это было для лаконичности и читаемости кода, ведь в данной задаче операции сложения и вычитания являются ассоциативными. \n",
    "\n",
    "Однако при отсутствии проверки отрицательных чисел могли бы возникать ошибки в выражениях типа $-2-2$, так как первая операция вычитания не имела бы числа слева. \n",
    "\n",
    "### 5) Заключение\n",
    "Как можно заметить, идея с разбиением строки на блоки позволяет обрабатывать не только целочисленные выражения, но и числа с плавающей точкой. Также в калькулятор можно с легкостью добавить другие математические знаки (по типу факториала и возведения в степень), ведь блочная структура с использованием рекурсии легко преобразует данные выражения в числовые значения\\\n"
   ]
  },
  {
   "cell_type": "code",
   "execution_count": 374,
   "metadata": {},
   "outputs": [],
   "source": [
    "import re\n",
    "from typing import Any, Union\n",
    "\n",
    "# Проверка строки на возможность быть float\n",
    "def _is_float(element: str) -> bool:\n",
    "    try:\n",
    "        float(element)\n",
    "        return True\n",
    "    except ValueError:\n",
    "        return False\n",
    "\n",
    "    \n",
    "# Выбор индекса value из expr, в случае отсутствия возвращается Default\n",
    "def _get_index(expr: list, value: Any, default: Any):\n",
    "    try:\n",
    "        return expr.index(value)\n",
    "    except ValueError:\n",
    "        return default\n",
    "    \n",
    "# Разделение строки с выражением на список, в котором находятся числа (положительные\n",
    "# и отрицательные), а также математические символы\n",
    "def _split_expr(expr: Union[str, list]):\n",
    "    if type(expr) == list:\n",
    "        return expr\n",
    "    expr = expr.replace(' ', '')\n",
    "    expr_list = re.split('(\\+|\\-|\\*|\\/|\\(|\\))', expr)\n",
    "    expr_list = list(filter(None, expr_list))\n",
    "    minus_to_remove = []\n",
    "    for i, val in enumerate(expr_list):\n",
    "        if is_float(val):\n",
    "            expr_list[i] = float(val)\n",
    "        if val == '-' and (i == 0 or not is_float(expr_list[i-1])):\n",
    "            expr_list[i+1] = '-'+expr_list[i+1]\n",
    "            minus_to_remove.append(i)\n",
    "    for index in sorted(minus_to_remove, reverse=True):\n",
    "        del expr_list[index]\n",
    "    return expr_list\n",
    "\n",
    "# Поиск индекса с закрывающей скобкой\n",
    "def _get_next_bracket_index(expr: list, index: int):\n",
    "    opened_brackets = 1\n",
    "    for i, val in enumerate(expr):\n",
    "        if val == '(':\n",
    "            opened_brackets+=1\n",
    "        if val == ')':\n",
    "            opened_brackets-=1\n",
    "        if opened_brackets == 0:\n",
    "            return i+index+1\n",
    "        \n",
    "        \n",
    "def calc(expr: str, ndigits: int = 3):\n",
    "    expr_list = _split_expr(expr)\n",
    "    while '(' in expr_list:\n",
    "        bracket_begin = expr_list.index('(')\n",
    "        bracket_end = _get_next_bracket_index(expr_list[bracket_begin+1:], bracket_begin)\n",
    "        \n",
    "        expr_list = expr_list[:bracket_begin] + [calc(expr_list[bracket_begin+1:bracket_end])]+ \\\n",
    "                    expr_list[bracket_end+1:]\n",
    "    \n",
    "    # Данные знаки рассматриваются вместе, чтобы избежать ошибок типа 10/2*5 = 1 и 10*2/5 = 0 \n",
    "    while '*' in expr_list or '/' in expr_list:\n",
    "        sign_index = min(_get_index(expr_list, '*', len(expr_list)+1), \n",
    "                         _get_index(expr_list, '/', len(expr_list)+1))\n",
    "        if expr_list[sign_index] == '*':\n",
    "            expr_list = expr_list[:sign_index-1]+[expr_list[sign_index-1]*expr_list[sign_index+1]]+ \\\n",
    "                        expr_list[sign_index+2:]\n",
    "        elif expr_list[sign_index] == '/':\n",
    "            expr_list = expr_list[:sign_index-1]+[expr_list[sign_index-1]/expr_list[sign_index+1]]+ \\\n",
    "                        expr_list[sign_index+2:]\n",
    "    \n",
    "    while '+' in expr_list or '-' in expr_list:\n",
    "        sign_index = min(_get_index(expr_list, '+', len(expr_list)+1), \n",
    "                         _get_index(expr_list, '-', len(expr_list)+1))\n",
    "        \n",
    "        if expr_list[sign_index] == '+':\n",
    "            expr_list = expr_list[:sign_index-1]+[expr_list[sign_index-1]+expr_list[sign_index+1]]+ \\\n",
    "                        expr_list[sign_index+2:]\n",
    "        elif expr_list[sign_index] == '-':\n",
    "            expr_list = expr_list[:sign_index-1]+[expr_list[sign_index-1]-expr_list[sign_index+1]]+ \\\n",
    "                        expr_list[sign_index+2:]\n",
    "        \n",
    "    return round(expr_list[0], ndigits)\n",
    "\n",
    "\n",
    "        \n",
    "    "
   ]
  },
  {
   "cell_type": "code",
   "execution_count": null,
   "metadata": {},
   "outputs": [],
   "source": []
  }
 ],
 "metadata": {
  "kernelspec": {
   "display_name": "Python 3 (ipykernel)",
   "language": "python",
   "name": "python3"
  },
  "language_info": {
   "codemirror_mode": {
    "name": "ipython",
    "version": 3
   },
   "file_extension": ".py",
   "mimetype": "text/x-python",
   "name": "python",
   "nbconvert_exporter": "python",
   "pygments_lexer": "ipython3",
   "version": "3.9.12"
  },
  "vscode": {
   "interpreter": {
    "hash": "916dbcbb3f70747c44a77c7bcd40155683ae19c65e1c03b4aa3499c5328201f1"
   }
  }
 },
 "nbformat": 4,
 "nbformat_minor": 4
}
